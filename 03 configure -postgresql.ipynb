{
 "cells": [
  {
   "cell_type": "code",
   "execution_count": null,
   "id": "8b2a1fd4",
   "metadata": {},
   "outputs": [],
   "source": [
    "%%bash\n",
    "oc exec pod/postgresql-0 -- env PGPASSWORD=$(oc get secret/postgresql -o jsonpath={.data.postgres-password} | base64 -d) psql -U postgres postgres -c \\\n",
    "  \"create user $(oc get secret/postgres-secrets -o jsonpath={.data.POSTGRES_DB_USERNAME} | base64 -d) password '$(oc get secret/postgres-secrets -o jsonpath={.data.POSTGRES_DB_PASSWORD} | base64 -d)'\"\n"
   ]
  },
  {
   "cell_type": "code",
   "execution_count": null,
   "id": "90ae286e",
   "metadata": {},
   "outputs": [],
   "source": [
    "%%bash\n",
    "oc exec pod/postgresql-0 -- env PGPASSWORD=$(oc get secret/postgresql -o jsonpath={.data.postgres-password} | base64 -d) psql -U postgres postgres -c \\\n",
    "  \"create user $(oc get secret/postgres-secrets -o jsonpath={.data.POSTGRES_ADMIN_USER} | base64 -d) password '$(oc get secret/postgres-secrets -o jsonpath={.data.POSTGRES_ADMIN_PASSWORD} | base64 -d)' superuser\"\n"
   ]
  },
  {
   "cell_type": "code",
   "execution_count": null,
   "id": "a3ff2d4b",
   "metadata": {},
   "outputs": [],
   "source": [
    "%%bash\n",
    "oc exec pod/postgresql-0 -- env PGPASSWORD=$(oc get secret/postgresql -o jsonpath={.data.postgres-password} | base64 -d) psql -U postgres postgres -c \\\n",
    "  \"create database $(oc get secret/postgres-secrets -o jsonpath={.data.POSTGRES_DB_NAME} | base64 -d) owner $(oc get secret/postgres-secrets -o jsonpath={.data.POSTGRES_DB_USERNAME} | base64 -d)\"\n"
   ]
  },
  {
   "cell_type": "code",
   "execution_count": null,
   "id": "db15dbe8",
   "metadata": {},
   "outputs": [],
   "source": [
    "%%bash\n",
    "oc exec pod/postgresql-0 -- env PGPASSWORD=$(oc get secret/postgresql -o jsonpath={.data.postgres-password} | base64 -d) psql -U postgres postgres -c \\\n",
    "  \"drop database defaultdb;\"\n"
   ]
  },
  {
   "cell_type": "code",
   "execution_count": null,
   "id": "0b879f4d",
   "metadata": {},
   "outputs": [],
   "source": [
    "%%bash\n",
    "oc exec --pod-running-timeout=20m pod/postgresql-0 -- env PGPASSWORD=$(oc get secret/postgresql -o jsonpath={.data.postgres-password} | base64 -d) psql -U postgres \\\n",
    " $(oc get secret/postgres-secrets -o jsonpath={.data.POSTGRES_DB_NAME} | base64 -d) -f /bitnami/postgresql/backup/SQL/Ipeds_DB.sql"
   ]
  },
  {
   "cell_type": "code",
   "execution_count": null,
   "id": "c38a20db",
   "metadata": {},
   "outputs": [],
   "source": [
    "%%bash\n",
    "oc exec pod/postgresql-0 --  ls /bitnami/postgresql/backup/SQL/Ipeds_DB.sql"
   ]
  },
  {
   "cell_type": "code",
   "execution_count": null,
   "id": "92881e49",
   "metadata": {},
   "outputs": [],
   "source": [
    "%%bash\n",
    "oc extract secret/postgresql --to=-"
   ]
  },
  {
   "cell_type": "code",
   "execution_count": null,
   "id": "f96a2a5a",
   "metadata": {},
   "outputs": [],
   "source": [
    "%%bash\n",
    "oc get secret"
   ]
  }
 ],
 "metadata": {
  "kernelspec": {
   "display_name": "Python 3.9",
   "language": "python",
   "name": "python3"
  },
  "language_info": {
   "codemirror_mode": {
    "name": "ipython",
    "version": 3
   },
   "file_extension": ".py",
   "mimetype": "text/x-python",
   "name": "python",
   "nbconvert_exporter": "python",
   "pygments_lexer": "ipython3",
   "version": "3.11.4"
  }
 },
 "nbformat": 4,
 "nbformat_minor": 5
}
