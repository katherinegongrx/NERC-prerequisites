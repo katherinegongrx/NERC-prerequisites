{
 "cells": [
  {
   "cell_type": "markdown",
   "id": "c74230c5",
   "metadata": {},
   "source": [
    "## Redis DB Installation"
   ]
  },
  {
   "cell_type": "code",
   "execution_count": null,
   "id": "9da64851-bdaf-41e5-9fbd-6e9aa48b1d96",
   "metadata": {},
   "outputs": [],
   "source": [
    "%%bash\n",
    "helm install redis --set master.persistence.size=2Gi  oci://registry-1.docker.io/bitnamicharts/redis"
   ]
  },
  {
   "cell_type": "markdown",
   "id": "d23b21e8",
   "metadata": {},
   "source": [
    "## Chroma DB Installation"
   ]
  },
  {
   "cell_type": "code",
   "execution_count": null,
   "id": "b122229e",
   "metadata": {},
   "outputs": [],
   "source": [
    "%%bash\n",
    "helm repo add chroma https://amikos-tech.github.io/chromadb-chart/\n",
    "helm install chroma chroma/chromadb"
   ]
  },
  {
   "cell_type": "markdown",
   "id": "94d74ec8",
   "metadata": {},
   "source": [
    "## PostgreSQL Installation"
   ]
  },
  {
   "cell_type": "code",
   "execution_count": null,
   "id": "6d35785f",
   "metadata": {},
   "outputs": [],
   "source": [
    "%%bash\n",
    "helm upgrade --install postgresql oci://registry-1.docker.io/bitnamicharts/postgresql --set primary.persistence.size=6Gi --set image.tag=16.6.0"
   ]
  },
  {
   "cell_type": "code",
   "execution_count": null,
   "id": "8b2a1fd4",
   "metadata": {},
   "outputs": [],
   "source": [
    "%%bash\n",
    "oc exec pod/postgresql-0 -- env PGPASSWORD=$(oc get secret/postgresql -o jsonpath={.data.postgres-password} | base64 -d) psql -U postgres postgres -c \\\n",
    "  \"create user keycloak password '$(oc get secret/postgres-pguser-keycloak -o jsonpath={.data.password} | base64 -d)'\"\n",
    "oc exec pod/postgresql-0 -- env PGPASSWORD=$(oc get secret/postgresql -o jsonpath={.data.postgres-password} | base64 -d) psql -U postgres postgres -c \\\n",
    "  \"create database keycloak owner keycloak\"\n"
   ]
  },
  {
   "cell_type": "code",
   "execution_count": null,
   "id": "db2d2ff4",
   "metadata": {},
   "outputs": [],
   "source": [
    "%%bash\n",
    "oc get pod\n",
    "oc logs pod/postgresql-0"
   ]
  },
  {
   "cell_type": "code",
   "execution_count": null,
   "id": "92881e49",
   "metadata": {},
   "outputs": [],
   "source": [
    "%%bash\n",
    "oc extract secret/postgresql --to=-"
   ]
  },
  {
   "cell_type": "code",
   "execution_count": null,
   "id": "f96a2a5a",
   "metadata": {},
   "outputs": [],
   "source": [
    "%%bash\n",
    "oc get secret"
   ]
  }
 ],
 "metadata": {
  "kernelspec": {
   "display_name": "Python 3.9",
   "language": "python",
   "name": "python3"
  },
  "language_info": {
   "codemirror_mode": {
    "name": "ipython",
    "version": 3
   },
   "file_extension": ".py",
   "mimetype": "text/x-python",
   "name": "python",
   "nbconvert_exporter": "python",
   "pygments_lexer": "ipython3",
   "version": "3.11.4"
  }
 },
 "nbformat": 4,
 "nbformat_minor": 5
}
